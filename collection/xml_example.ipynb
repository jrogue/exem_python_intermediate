{
 "cells": [
  {
   "cell_type": "code",
   "execution_count": 1,
   "metadata": {
    "collapsed": true
   },
   "outputs": [],
   "source": [
    "import xmltodict, json"
   ]
  },
  {
   "cell_type": "code",
   "execution_count": 2,
   "metadata": {
    "collapsed": true
   },
   "outputs": [],
   "source": [
    "baby_xml = \"\"\"\n",
    "<list>\n",
    "<baby><name>Isabella</name><sex>F</sex><number>22731</number></baby>\n",
    "<baby><name>Sophia</name><sex>F</sex><number>20477</number></baby>\n",
    "<baby><name>Emma</name><sex>F</sex><number>17179</number></baby>\n",
    "<baby><name>Olivia</name><sex>F</sex><number>16860</number></baby>\n",
    "<baby><name>Ava</name><sex>F</sex><number>15300</number></baby>\n",
    "<baby><name>Emily</name><sex>F</sex><name>14172</name></baby>\n",
    "<baby><name>Abigail</name><sex>F</sex><number>14124</number></baby>\n",
    "<baby><name>Madison</name><sex>F</sex><number>13070</number></baby>\n",
    "<baby><name>Chloe</name><sex>F</sex><number>11656</number></baby>\n",
    "<baby><name>Mia</name><sex>F</sex><number>10541</number></baby>\n",
    "</list>\n",
    "\"\"\""
   ]
  },
  {
   "cell_type": "code",
   "execution_count": 3,
   "metadata": {},
   "outputs": [
    {
     "name": "stdout",
     "output_type": "stream",
     "text": [
      "{\"list\": {\"baby\": [{\"name\": \"Isabella\", \"sex\": \"F\", \"number\": \"22731\"}, {\"name\": \"Sophia\", \"sex\": \"F\", \"number\": \"20477\"}, {\"name\": \"Emma\", \"sex\": \"F\", \"number\": \"17179\"}, {\"name\": \"Olivia\", \"sex\": \"F\", \"number\": \"16860\"}, {\"name\": \"Ava\", \"sex\": \"F\", \"number\": \"15300\"}, {\"name\": [\"Emily\", \"14172\"], \"sex\": \"F\"}, {\"name\": \"Abigail\", \"sex\": \"F\", \"number\": \"14124\"}, {\"name\": \"Madison\", \"sex\": \"F\", \"number\": \"13070\"}, {\"name\": \"Chloe\", \"sex\": \"F\", \"number\": \"11656\"}, {\"name\": \"Mia\", \"sex\": \"F\", \"number\": \"10541\"}]}}\n"
     ]
    }
   ],
   "source": [
    " print(json.dumps(xmltodict.parse(baby_xml)))"
   ]
  },
  {
   "cell_type": "code",
   "execution_count": 4,
   "metadata": {
    "collapsed": true
   },
   "outputs": [],
   "source": [
    "baby_json = xmltodict.parse(baby_xml)\n",
    "\n",
    "baby_list = [ list(baby_one.values()) for baby_one in json.loads(json.dumps(baby_json['list']['baby'])) if baby_one ]"
   ]
  },
  {
   "cell_type": "code",
   "execution_count": 5,
   "metadata": {},
   "outputs": [
    {
     "name": "stdout",
     "output_type": "stream",
     "text": [
      "[['Isabella', 'F', '22731'], ['Sophia', 'F', '20477'], ['Emma', 'F', '17179'], ['Olivia', 'F', '16860'], ['Ava', 'F', '15300'], [['Emily', '14172'], 'F'], ['Abigail', 'F', '14124'], ['Madison', 'F', '13070'], ['Chloe', 'F', '11656'], ['Mia', 'F', '10541']]\n"
     ]
    }
   ],
   "source": [
    "print(baby_list)"
   ]
  },
  {
   "cell_type": "code",
   "execution_count": 6,
   "metadata": {},
   "outputs": [
    {
     "name": "stdout",
     "output_type": "stream",
     "text": [
      "['Isabella', 'F', '22731']\n"
     ]
    }
   ],
   "source": [
    "print(baby_list[0])"
   ]
  }
 ],
 "metadata": {
  "kernelspec": {
   "display_name": "Python 3.6",
   "language": "python",
   "name": "python36"
  },
  "language_info": {
   "codemirror_mode": {
    "name": "ipython",
    "version": 3
   },
   "file_extension": ".py",
   "mimetype": "text/x-python",
   "name": "python",
   "nbconvert_exporter": "python",
   "pygments_lexer": "ipython3",
   "version": "3.6.0"
  }
 },
 "nbformat": 4,
 "nbformat_minor": 2
}
