{
 "cells": [
  {
   "cell_type": "code",
   "execution_count": 13,
   "metadata": {
    "collapsed": true
   },
   "outputs": [],
   "source": [
    "import pymysql\n",
    "import pymysql.cursors\n",
    "import json"
   ]
  },
  {
   "cell_type": "code",
   "execution_count": null,
   "metadata": {},
   "outputs": [],
   "source": [
    "connection = pymysql.connect(host='db4free.net',\n",
    "                             port=3307,\n",
    "                             user='username',\n",
    "                             password='password',\n",
    "                             db='database',\n",
    "                             charset='utf8mb4',\n",
    "                             cursorclass=pymysql.cursors.DictCursor)\n",
    "\n",
    "try:\n",
    "    with connection.cursor() as cursor:\n",
    "        # Delete all records\n",
    "        sql = \"DELETE FROM baby\"\n",
    "        cursor.execute(sql)\n",
    "        # Create new records\n",
    "        sql = \"INSERT INTO baby (name, sex, number) VALUES (%s, %s, %s)\"\n",
    "        cursor.execute(sql, ('Isabella', 'F', 22731))\n",
    "        cursor.execute(sql, ('Sophia', 'F', 20477))\n",
    "        cursor.execute(sql, ('Emma', 'F', 17179))\n",
    "        cursor.execute(sql, ('Olivia', 'F', 16860))\n",
    "        cursor.execute(sql, ('Ava', 'F', 15300))\n",
    "        cursor.execute(sql, ('Emily', 'F', 14172))\n",
    "        cursor.execute(sql, ('Abigail', 'F', 14127))\n",
    "        cursor.execute(sql, ('Chloe', 'F', 11656))\n",
    "        cursor.execute(sql, ('Mia', 'F', 10541))\n",
    "\n",
    "\n",
    "    # connection is not autocommit by default. So you must commit to save\n",
    "    # your changes.\n",
    "    connection.commit()\n",
    "\n",
    "    with connection.cursor() as cursor:\n",
    "        # Read all records\n",
    "        sql = \"SELECT * FROM baby\"\n",
    "        cursor.execute(sql)\n",
    "        result = cursor.fetchall()\n",
    "        print(result)\n",
    "        baby_list = [ list(baby_one.values()) for baby_one in result if baby_one ]\n",
    "        print(baby_list)\n",
    "finally:\n",
    "    connection.close()\n"
   ]
  }
 ],
 "metadata": {
  "kernelspec": {
   "display_name": "Python 3.6",
   "language": "python",
   "name": "python36"
  },
  "language_info": {
   "codemirror_mode": {
    "name": "ipython",
    "version": 3
   },
   "file_extension": ".py",
   "mimetype": "text/x-python",
   "name": "python",
   "nbconvert_exporter": "python",
   "pygments_lexer": "ipython3",
   "version": "3.6.0"
  }
 },
 "nbformat": 4,
 "nbformat_minor": 2
}
